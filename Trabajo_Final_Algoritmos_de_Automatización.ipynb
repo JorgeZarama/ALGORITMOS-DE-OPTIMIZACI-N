{
  "cells": [
    {
      "cell_type": "markdown",
      "metadata": {
        "id": "view-in-github",
        "colab_type": "text"
      },
      "source": [
        "<a href=\"https://colab.research.google.com/github/JorgeZarama/ALGORITMOS-DE-OPTIMIZACI-N/blob/main/Trabajo_Final_Algoritmos_de_Automatizaci%C3%B3n.ipynb\" target=\"_parent\"><img src=\"https://colab.research.google.com/assets/colab-badge.svg\" alt=\"Open In Colab\"/></a>"
      ]
    },
    {
      "cell_type": "code",
      "execution_count": null,
      "metadata": {
        "id": "dJWcfXn4reUr"
      },
      "outputs": [],
      "source": [
        "import numpy as np\n",
        "import pandas as pd\n",
        "import math\n",
        "import random\n",
        "from itertools import permutations\n",
        "from itertools import combinations\n",
        "from collections import Counter\n"
      ]
    },
    {
      "cell_type": "markdown",
      "metadata": {
        "id": "b3VTxNJoF70v"
      },
      "source": [
        "1. ¿Cuantas posibilidades hay sin tener en cuenta las restricciones?"
      ]
    },
    {
      "cell_type": "markdown",
      "metadata": {
        "id": "uDIte7V2JFVN"
      },
      "source": [
        "Para resolver este problema mas amplio, es decir agregar la caracteristica de que podrían haber hasta 9 partidos en simultaneo en un horario, podemos utilizar el concepto de \"combinación\" de elementos. En este caso, queremos calcular el número de combinaciones posibles para distribuir los 10 partidos en la combinación de horarios disponibles, teniendo en cuenta que puede haber hasta 9 partidos en simultáneo en cada horario.\n"
      ]
    },
    {
      "cell_type": "markdown",
      "metadata": {
        "id": "fInQlVBluxO0"
      },
      "source": [
        "9 números de partidos simultaneos elevado a la 10 posibles partido por hora * 10 horas disponibles"
      ]
    },
    {
      "cell_type": "code",
      "execution_count": null,
      "metadata": {
        "colab": {
          "base_uri": "https://localhost:8080/"
        },
        "id": "ybp3zTfzgehv",
        "outputId": "18587383-23f9-4917-e468-a2d980eb28b8"
      },
      "outputs": [
        {
          "name": "stdout",
          "output_type": "stream",
          "text": [
            "El número de posibilidades es : 34867844010\n"
          ]
        }
      ],
      "source": [
        "print(\"El número de posibilidades es : \", end=\"\")\n",
        "print((9**10) *  10)\n"
      ]
    },
    {
      "cell_type": "markdown",
      "metadata": {
        "id": "oZFo5lmJGaVj"
      },
      "source": [
        "2. ¿Cuántas posibilidades hay teniendo en cuenta todas las restricciones?"
      ]
    },
    {
      "cell_type": "markdown",
      "metadata": {
        "id": "HI1HdxOQt1jA"
      },
      "source": [
        "En este caso al cálculo que ya realizamos en el punto anterior le restariamos los dos casos del Vienes y Lunes, utilizando la regla que las combinaciones que tengan vacios estos horarios no se tengan en cuenta para el conteo.\n",
        "en ese caso la ecuación sería:\n",
        "<br>(9^10) *  10 -  9^10 - 9^10"
      ]
    },
    {
      "cell_type": "code",
      "execution_count": null,
      "metadata": {
        "colab": {
          "base_uri": "https://localhost:8080/"
        },
        "id": "q65kfO7_GfqU",
        "outputId": "26e26e3f-9757-4500-edf2-d29e2f436e83"
      },
      "outputs": [
        {
          "name": "stdout",
          "output_type": "stream",
          "text": [
            "El número de posibilidades es : 27894275208\n"
          ]
        }
      ],
      "source": [
        "print(\"El número de posibilidades es : \", end=\"\")\n",
        "print((9**10) *  8)\n"
      ]
    },
    {
      "cell_type": "markdown",
      "metadata": {
        "id": "Skxfj7CJ60bM"
      },
      "source": [
        "Para Encontrar una cota hacemos un algoritmo de fuerza bruta realizando una restricción para simplificar el problema, esta restricción consiste en dejar un partido por horario, el número de permutaciones para este caso es de 3628800"
      ]
    },
    {
      "cell_type": "code",
      "execution_count": null,
      "metadata": {
        "id": "lhe7VQ_A0vjb"
      },
      "outputs": [],
      "source": [
        "\n",
        "\n",
        "def generar_combinaciones(partidos, horarios):\n",
        "    return list(permutations(partidos, len(horarios)))\n",
        "\n",
        "#partidos1 = [\"Celta-Real Madrid\", \"Valencia-Real_Sociedad\", \"Mallorca-Eibar\"]\n",
        "#horarios1 = [\"V20\", \"S12\", \"S16\"]\n",
        "#print(generar_combinaciones(partidos1, horarios1))"
      ]
    },
    {
      "cell_type": "markdown",
      "metadata": {
        "id": "akg-JBX4ST1c"
      },
      "source": [
        "Ahora generamos una función para setiar en valor de cada partido\n",
        "\n"
      ]
    },
    {
      "cell_type": "code",
      "execution_count": null,
      "metadata": {
        "id": "hq4cmKyc7bKv"
      },
      "outputs": [],
      "source": [
        "def audiencia(fecha):\n",
        "    audiencia_por_fecha = []\n",
        "    for perm in fecha:\n",
        "        audiencia = []\n",
        "        partidos = []\n",
        "        for partido in perm:\n",
        "            if partido == 'Celta-Real Madrid':\n",
        "                audiencia.append(1.3)\n",
        "                partidos.append(partido)\n",
        "            elif partido == 'Valencia-Real_Sociedad':\n",
        "                audiencia.append(1.3)\n",
        "                partidos.append(partido)\n",
        "            elif partido == 'Mallorca-Eibar':\n",
        "                audiencia.append(0.47)\n",
        "                partidos.append(partido)\n",
        "            elif partido == 'Athetic-Barcelona':\n",
        "                audiencia.append(1.3)\n",
        "                partidos.append(partido)\n",
        "            elif partido == 'Leganes-Osasuna':\n",
        "                audiencia.append(0.47)\n",
        "                partidos.append(partido)\n",
        "            elif partido == 'Villareal-Granada':\n",
        "                audiencia.append(0.75)\n",
        "                partidos.append(partido)\n",
        "            elif partido == 'Alavés-Levante':\n",
        "                audiencia.append(0.9)\n",
        "                partidos.append(partido)\n",
        "            elif partido == 'Espanyol-Sevilla':\n",
        "                audiencia.append(0.9)\n",
        "                partidos.append(partido)\n",
        "            elif partido == 'Betis-Valladolid':\n",
        "                audiencia.append(0.75)\n",
        "                partidos.append(partido)\n",
        "            elif partido == 'Atlético-Getafe':\n",
        "                audiencia.append(0.9)\n",
        "                partidos.append(partido)\n",
        "        audiencia_por_fecha.append((audiencia, partidos))\n",
        "    return audiencia_por_fecha\n",
        "\n",
        "\n"
      ]
    },
    {
      "cell_type": "code",
      "execution_count": null,
      "metadata": {
        "id": "H4PTPU0sJBnK"
      },
      "outputs": [],
      "source": [
        "def peso(audiencia):\n",
        "  peso_por_fecha = []\n",
        "  mayor_valor = 0\n",
        "  for perm in audiencia:\n",
        "    pesos_dia = [0.4, 0.55, 0.7, 0.8, 1, 0.45, 0.75, 0.85, 1, 0.4]\n",
        "    peso = np.multiply(perm[0],pesos_dia)\n",
        "    suma_peso = np.sum(peso)\n",
        "    if suma_peso > mayor_valor:\n",
        "      mayor_valor=suma_peso\n",
        "      perm_max = perm\n",
        "    peso_por_fecha.append(suma_peso)\n",
        "  peso_por_fecha = max(peso_por_fecha)\n",
        "  perm_max\n",
        "  return peso_por_fecha, perm_max\n"
      ]
    },
    {
      "cell_type": "code",
      "execution_count": null,
      "metadata": {
        "id": "TlYUtYrgaVSy"
      },
      "outputs": [],
      "source": [
        "\n",
        "partidos = [\"Celta-Real Madrid\", \"Valencia-Real_Sociedad\", \"Mallorca-Eibar\", \"Athetic-Barcelona\", \"Leganes-Osasuna\", \"Villareal-Granada\", \"Alavés-Levante\", \"Espanyol-Sevilla\", \"Betis-Valladolid\", \"Atlético-Getafe\"]\n",
        "horarios = [\"V20\", \"S12\", \"S16\", \"S18\", \"S20\", \"D12\", \"D16\", \"D18\", \"D20\", \"L20\"]\n",
        "calcular_peso = peso(audiencia(generar_combinaciones(partidos, horarios)))\n",
        "\n",
        "\n"
      ]
    },
    {
      "cell_type": "code",
      "execution_count": null,
      "metadata": {
        "colab": {
          "base_uri": "https://localhost:8080/"
        },
        "id": "ypja8cebP7zz",
        "outputId": "0cbc4620-72b8-4ab3-94f1-effa2076aacf"
      },
      "outputs": [
        {
          "name": "stdout",
          "output_type": "stream",
          "text": [
            "La mayor audiencia encontrada fue: 6.856\n",
            "Horario V20  Encuentro  Mallorca-Eibar\n",
            "Horario S12  Encuentro  Villareal-Granada\n",
            "Horario S16  Encuentro  Alavés-Levante\n",
            "Horario S18  Encuentro  Espanyol-Sevilla\n",
            "Horario S20  Encuentro  Celta-Real Madrid\n",
            "Horario D12  Encuentro  Betis-Valladolid\n",
            "Horario D16  Encuentro  Atlético-Getafe\n",
            "Horario D18  Encuentro  Valencia-Real_Sociedad\n",
            "Horario D20  Encuentro  Athetic-Barcelona\n",
            "Horario L20  Encuentro  Leganes-Osasuna\n"
          ]
        }
      ],
      "source": [
        "print(\"La mayor audiencia encontrada fue:\", calcular_peso[0])\n",
        "for i in range(10):\n",
        "  print(\"Horario\" ,horarios[i],  \" Encuentro \", calcular_peso[1][1][i])"
      ]
    },
    {
      "cell_type": "code",
      "execution_count": null,
      "metadata": {
        "id": "lD5nAk0UVjIy"
      },
      "outputs": [],
      "source": [
        "def matriz_dias(fechas):\n",
        "\n",
        "    dias= np.zeros((8,10))\n",
        "\n",
        "    for x in range(10):\n",
        "        dias[0][x]=fechas[x]\n",
        "\n",
        "    for y in range(8):\n",
        "        for z in range(10):\n",
        "            if y==1:\n",
        "                dias[y][z]=dias[0][z]*0.75\n",
        "            if y==2:\n",
        "                dias[y][z]=dias[0][z]*0.65\n",
        "            if y==3:\n",
        "                dias[y][z]=dias[0][z]*0.4\n",
        "            if y==4:\n",
        "                dias[y][z]=dias[0][z]*0.3\n",
        "            if y==5:\n",
        "                dias[y][z]=dias[0][z]*0.25\n",
        "            if y==6:\n",
        "                dias[y][z]=dias[0][z]*0.22\n",
        "            if y==7:\n",
        "                dias[y][z]=dias[0][z]*0.2\n",
        "            if y==8:\n",
        "                dias[y][z]=dias[0][z]*0.2\n",
        "\n",
        "\n",
        "    print(dias)\n",
        "    return dias\n"
      ]
    },
    {
      "cell_type": "code",
      "execution_count": null,
      "metadata": {
        "id": "YXOzSoo9btMf"
      },
      "outputs": [],
      "source": [
        "# Implementamos una función para calcular los valores más altos de la matríz implementada\n",
        "\n",
        "def obtener_tres_valores_mas_altos_con_coordenadas(matriz):\n",
        "    # Convertir la matriz a un arreglo unidimensional\n",
        "    arr = matriz.flatten()\n",
        "\n",
        "    # Obtener los índices que ordenan el arreglo de manera ascendente\n",
        "    indices_ordenados = np.argsort(arr)\n",
        "\n",
        "    # Seleccionar los tres últimos índices (los correspondientes a los valores más altos)\n",
        "    tres_indices_mas_altos = indices_ordenados[-3:]\n",
        "\n",
        "    # Obtener los tres valores más altos\n",
        "    tres_valores_mas_altos = arr[tres_indices_mas_altos]\n",
        "\n",
        "    # Obtener las coordenadas (fila, columna) de los tres valores más altos en la matriz original\n",
        "    filas, columnas = np.unravel_index(tres_indices_mas_altos, matriz.shape)\n",
        "\n",
        "    # Devolver los tres valores más altos y sus coordenadas\n",
        "    return tres_valores_mas_altos, filas, columnas\n",
        "\n",
        "# De esos tres valores vamos a elegir uno de forma aleatoria\n",
        "\n",
        "def obtener_valor_aleatorio_mas_alto_con_coordenada(matriz):\n",
        "    # Obtener los tres valores más altos y sus coordenadas\n",
        "    tres_valores_altos, filas, columnas = obtener_tres_valores_mas_altos_con_coordenadas(matriz)\n",
        "\n",
        "    # Seleccionar un valor aleatorio de entre los tres valores más altos\n",
        "    valor_aleatorio = random.choice(tres_valores_altos)\n",
        "\n",
        "    # Obtener la coordenada correspondiente al valor aleatorio en la matriz original\n",
        "    indice_valor_aleatorio = np.where(tres_valores_altos == valor_aleatorio)[0][0]\n",
        "    fila_valor_aleatorio = filas[indice_valor_aleatorio]\n",
        "    columna_valor_aleatorio = columnas[indice_valor_aleatorio]\n",
        "\n",
        "    return valor_aleatorio, fila_valor_aleatorio, columna_valor_aleatorio\n",
        "\n",
        "# Creamos una función que modifique la matriz dejando en cero si un valor de la misma fue escogido\n",
        "\n",
        "def reemplazar_valor_por_cero(matriz, fila, columna):\n",
        "    # Crear una copia de la matriz original para no modificarla directamente\n",
        "    matriz_modificada = matriz.copy()\n",
        "\n",
        "    # Reemplazar el valor en la posición dada por cero\n",
        "    matriz_modificada[fila, columna] = 0\n",
        "\n",
        "    return matriz_modificada\n",
        "\n"
      ]
    },
    {
      "cell_type": "code",
      "execution_count": null,
      "metadata": {
        "id": "mjdjkRADLjbA"
      },
      "outputs": [],
      "source": [
        "def audiencia2(fecha):\n",
        "    audiencia_por_fecha = []\n",
        "    for perm in fecha:\n",
        "        audiencia = []\n",
        "        partidos = []\n",
        "        for partido in perm:\n",
        "            if partido == 'Celta-Real Madrid':\n",
        "                audiencia.append(1.3)\n",
        "                partidos.append(partido)\n",
        "            elif partido == 'Valencia-Real_Sociedad':\n",
        "                audiencia.append(1.3)\n",
        "                partidos.append(partido)\n",
        "            elif partido == 'Mallorca-Eibar':\n",
        "                audiencia.append(0.47)\n",
        "                partidos.append(partido)\n",
        "            elif partido == 'Athetic-Barcelona':\n",
        "                audiencia.append(1.3)\n",
        "                partidos.append(partido)\n",
        "            elif partido == 'Leganes-Osasuna':\n",
        "                audiencia.append(0.47)\n",
        "                partidos.append(partido)\n",
        "            elif partido == 'Villareal-Granada':\n",
        "                audiencia.append(0.75)\n",
        "                partidos.append(partido)\n",
        "            elif partido == 'Alavés-Levante':\n",
        "                audiencia.append(0.9)\n",
        "                partidos.append(partido)\n",
        "            elif partido == 'Espanyol-Sevilla':\n",
        "                audiencia.append(0.9)\n",
        "                partidos.append(partido)\n",
        "            elif partido == 'Betis-Valladolid':\n",
        "                audiencia.append(0.75)\n",
        "                partidos.append(partido)\n",
        "            elif partido == 'Atlético-Getafe':\n",
        "                audiencia.append(0.9)\n",
        "                partidos.append(partido)\n",
        "        audiencia_por_fecha.append(audiencia)\n",
        "    return audiencia_por_fecha\n"
      ]
    },
    {
      "cell_type": "code",
      "execution_count": null,
      "metadata": {
        "id": "-GozS84iJIFc"
      },
      "outputs": [],
      "source": [
        "def elegir_los_horarios(permutaciones, matriz_costo_repeticiones):\n",
        "  horarios = []\n",
        "  repeticiones = []\n",
        "  audiencia = []\n",
        "  for permutacion in permutaciones:\n",
        "      matriz_modificada = matriz_costo_repeticiones.copy()\n",
        "      horario = []\n",
        "      #Aplicamos las restricciones que nos plantea el problema dejar la fecha del viernes y el lunes con al menos un partido\n",
        "      matriz_modificada = reemplazar_valor_por_cero(matriz_modificada, 0, 0)\n",
        "      horario.append((permutacion[0], 0))\n",
        "      matriz_modificada = reemplazar_valor_por_cero(matriz_modificada, 0, 9)\n",
        "      horario.append((permutacion[1], 9))\n",
        "      for x in range(2, len(permutacion)):\n",
        "        valor_aleatorio, fila_aleatorio, columna_aleatorio = obtener_valor_aleatorio_mas_alto_con_coordenada(matriz_modificada)\n",
        "        matriz_modificada = reemplazar_valor_por_cero(matriz_modificada, fila_aleatorio, columna_aleatorio)\n",
        "        horario.append((permutacion[x], columna_aleatorio))\n",
        "      array_valores_numericos = obtener_repeticiones_por_fila([tupla[1] for tupla in horario])\n",
        "      repeticiones.append(array_valores_numericos)\n",
        "      horarios.append(horario)\n",
        "\n",
        "      array_audicencia = [tupla[0] for tupla in horario]\n",
        "      audiencia.append(array_audicencia)\n",
        "      audiencia_final = audiencia2(audiencia)\n",
        "  return horarios, repeticiones, audiencia_final, matriz_costo_repeticiones\n",
        "\n",
        "def obtener_repeticiones_por_fila(fila):\n",
        "    frecuencia = Counter(fila)\n",
        "    repeticiones = [frecuencia[i] for i in range(10)]\n",
        "    return repeticiones\n"
      ]
    },
    {
      "cell_type": "code",
      "execution_count": null,
      "metadata": {
        "id": "YlmfJNOLPNcY"
      },
      "outputs": [],
      "source": [
        "def peso2(audiencia):\n",
        "  peso_por_permutacion = []\n",
        "  mayor_valor = 0\n",
        "  for x in range(len(audiencia[2])):\n",
        "      peso = 0\n",
        "      peso_por_fecha = []\n",
        "      suma_peso = 0\n",
        "      for y in range(len(audiencia[2][x])):\n",
        "        vector = [tupla[y][1] for tupla in audiencia[0]]\n",
        "        peso = audiencia[2][x][y]*audiencia[3][(audiencia[1][x][vector[0]]-1)][vector[0]]\n",
        "        peso_por_fecha.append(peso)\n",
        "      peso_por_permutacion.append(peso_por_fecha)\n",
        "      suma_peso = np.sum(peso_por_permutacion[x])\n",
        "      if suma_peso > mayor_valor:\n",
        "        mayor_valor = suma_peso\n",
        "        perm_max = audiencia[2][x]\n",
        "        comb_max = audiencia[1][x]\n",
        "        emparejamiento = audiencia[0][x]\n",
        "\n",
        "  return  mayor_valor, perm_max, comb_max, emparejamiento\n",
        "\n"
      ]
    },
    {
      "cell_type": "code",
      "execution_count": null,
      "metadata": {
        "colab": {
          "base_uri": "https://localhost:8080/"
        },
        "id": "J8mBjfhSWyI7",
        "outputId": "a063aece-7720-476e-c76d-771d6c27f612"
      },
      "outputs": [
        {
          "name": "stdout",
          "output_type": "stream",
          "text": [
            "[[0.4    0.55   0.7    0.8    1.     0.45   0.75   0.85   1.     0.4   ]\n",
            " [0.3    0.4125 0.525  0.6    0.75   0.3375 0.5625 0.6375 0.75   0.3   ]\n",
            " [0.26   0.3575 0.455  0.52   0.65   0.2925 0.4875 0.5525 0.65   0.26  ]\n",
            " [0.16   0.22   0.28   0.32   0.4    0.18   0.3    0.34   0.4    0.16  ]\n",
            " [0.12   0.165  0.21   0.24   0.3    0.135  0.225  0.255  0.3    0.12  ]\n",
            " [0.1    0.1375 0.175  0.2    0.25   0.1125 0.1875 0.2125 0.25   0.1   ]\n",
            " [0.088  0.121  0.154  0.176  0.22   0.099  0.165  0.187  0.22   0.088 ]\n",
            " [0.08   0.11   0.14   0.16   0.2    0.09   0.15   0.17   0.2    0.08  ]]\n"
          ]
        }
      ],
      "source": [
        "horarios=np.array([0.4,0.55,0.7,0.8,1,0.45,0.75,0.85,1,0.4])\n",
        "matriz_costo_repeticiones = matriz_dias(horarios)\n",
        "partidos = [\"Celta-Real Madrid\", \"Valencia-Real_Sociedad\", \"Mallorca-Eibar\", \"Athetic-Barcelona\", \"Leganes-Osasuna\", \"Villareal-Granada\", \"Alavés-Levante\", \"Espanyol-Sevilla\", \"Betis-Valladolid\", \"Atlético-Getafe\"]\n",
        "horarios = [\"V20\", \"S12\", \"S16\", \"S18\", \"S20\", \"D12\", \"D16\", \"D18\", \"D20\", \"L20\"]\n",
        "#combinaciones = generar_combinaciones(partidos, horarios)\n",
        "#print(\"-------\")\n",
        "#display(combinaciones[0:1])\n",
        "#print(\"-------\")\n",
        "elegir_horarios = elegir_los_horarios(combinaciones[1000000:1100000], matriz_costo_repeticiones)\n",
        "#print([tupla[0][1] for tupla in elegir_horarios[0]])\n",
        "#print(elegir_horarios[1])\n",
        "#print(elegir_horarios[2])"
      ]
    },
    {
      "cell_type": "code",
      "execution_count": null,
      "metadata": {
        "id": "u7FtS8-p47ux"
      },
      "outputs": [],
      "source": [
        "print(peso2(elegir_horarios))"
      ]
    },
    {
      "cell_type": "code",
      "execution_count": null,
      "metadata": {
        "id": "AmwnRcxM69Lf"
      },
      "outputs": [],
      "source": []
    },
    {
      "cell_type": "code",
      "execution_count": null,
      "metadata": {
        "id": "df3hAuta69Lf"
      },
      "outputs": [],
      "source": []
    },
    {
      "cell_type": "code",
      "execution_count": null,
      "metadata": {
        "id": "y62kyYXx69Lf"
      },
      "outputs": [],
      "source": []
    }
  ],
  "metadata": {
    "colab": {
      "provenance": [],
      "include_colab_link": true
    },
    "kernelspec": {
      "display_name": "Python 3 (ipykernel)",
      "language": "python",
      "name": "python3"
    },
    "language_info": {
      "codemirror_mode": {
        "name": "ipython",
        "version": 3
      },
      "file_extension": ".py",
      "mimetype": "text/x-python",
      "name": "python",
      "nbconvert_exporter": "python",
      "pygments_lexer": "ipython3",
      "version": "3.11.3"
    }
  },
  "nbformat": 4,
  "nbformat_minor": 0
}