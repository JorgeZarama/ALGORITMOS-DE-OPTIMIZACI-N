{
  "cells": [
    {
      "cell_type": "markdown",
      "metadata": {
        "id": "view-in-github",
        "colab_type": "text"
      },
      "source": [
        "<a href=\"https://colab.research.google.com/github/JorgeZarama/ALGORITMOS-DE-OPTIMIZACI-N/blob/main/Trabajo_Algoritmos_de_Automatizaci%C3%B3n_Final.ipynb\" target=\"_parent\"><img src=\"https://colab.research.google.com/assets/colab-badge.svg\" alt=\"Open In Colab\"/></a>"
      ]
    },
    {
      "cell_type": "markdown",
      "source": [
        "## Algoritmos de optimización\n",
        "\n",
        "#### Nombre: Jorge Andrés Zarama Benavides\n",
        "#### URL: https://github.com/JorgeZarama/ALGORITMOS-DE-OPTIMIZACI-N\n",
        "#### Problema: Organizar los partidos de la liga\n",
        "<br>\n",
        "\n",
        "#### Descripción del Problema: Desde la La Liga de fútbol profesional se pretende organizar los horarios de los partidos de liga de cada jornada. Se conocen algunos datos que nos deben llevar a diseñar un algoritmo que realice la asignación de los partidos a los horarios de forma que maximice la audiencia.\n"
      ],
      "metadata": {
        "id": "b7alGgST3u8U"
      }
    },
    {
      "cell_type": "code",
      "execution_count": 3,
      "metadata": {
        "id": "dJWcfXn4reUr"
      },
      "outputs": [],
      "source": [
        "import numpy as np\n",
        "import pandas as pd\n",
        "import math\n",
        "import random\n",
        "from itertools import permutations\n",
        "from itertools import combinations\n",
        "from collections import Counter\n"
      ]
    },
    {
      "cell_type": "markdown",
      "metadata": {
        "id": "b3VTxNJoF70v"
      },
      "source": [
        "1. ¿Cuantas posibilidades hay sin tener en cuenta las restricciones?"
      ]
    },
    {
      "cell_type": "markdown",
      "metadata": {
        "id": "uDIte7V2JFVN"
      },
      "source": [
        "Para resolver este problema mas amplio, es decir agregar la caracteristica de que podrían haber hasta 9 partidos en simultaneo en un horario, podemos utilizar el concepto de \"combinación\" de elementos. En este caso, queremos calcular el número de combinaciones posibles para distribuir los 10 partidos en la combinación de horarios disponibles, teniendo en cuenta que puede haber hasta 9 partidos en simultáneo en cada horario.\n"
      ]
    },
    {
      "cell_type": "markdown",
      "metadata": {
        "id": "fInQlVBluxO0"
      },
      "source": [
        "9 números de partidos simultaneos elevado a la 10 posibles partido por hora * 10 horas disponibles"
      ]
    },
    {
      "cell_type": "code",
      "execution_count": 4,
      "metadata": {
        "colab": {
          "base_uri": "https://localhost:8080/"
        },
        "id": "ybp3zTfzgehv",
        "outputId": "e4616a70-b0ef-45e1-86f6-7d26fe749ff6"
      },
      "outputs": [
        {
          "output_type": "stream",
          "name": "stdout",
          "text": [
            "El número de posibilidades es : 34867844010\n"
          ]
        }
      ],
      "source": [
        "print(\"El número de posibilidades es : \", end=\"\")\n",
        "print((9**10) *  10)\n"
      ]
    },
    {
      "cell_type": "markdown",
      "metadata": {
        "id": "oZFo5lmJGaVj"
      },
      "source": [
        "2. ¿Cuántas posibilidades hay teniendo en cuenta todas las restricciones?"
      ]
    },
    {
      "cell_type": "markdown",
      "metadata": {
        "id": "HI1HdxOQt1jA"
      },
      "source": [
        "En este caso al cálculo que ya realizamos en el punto anterior le restariamos los dos casos del Vienes y Lunes, utilizando la regla que las combinaciones que tengan vacios estos horarios no se tengan en cuenta para el conteo.\n",
        "en ese caso la ecuación sería:\n",
        "<br>(9^10) *  10 -  9^10 - 9^10"
      ]
    },
    {
      "cell_type": "code",
      "execution_count": 5,
      "metadata": {
        "colab": {
          "base_uri": "https://localhost:8080/"
        },
        "id": "q65kfO7_GfqU",
        "outputId": "64ae305a-a8a5-4254-bb7d-c98012e383ac"
      },
      "outputs": [
        {
          "output_type": "stream",
          "name": "stdout",
          "text": [
            "El número de posibilidades es : 27894275208\n"
          ]
        }
      ],
      "source": [
        "print(\"El número de posibilidades es : \", end=\"\")\n",
        "print((9**10) *  8)\n"
      ]
    },
    {
      "cell_type": "markdown",
      "source": [
        "3. ¿Cuál es la estructura de datos que mejor se adapta al problema?<br><br>\n",
        "La estructura que mejor se adaptó a mi implementación fueron las listas y algunos arreglos de numpy para hacer algunos cálculos, trate de ocupar numpy y pandas pero era más sencillo trabajar con las listas porque permite muchos niveles de granularidad que permiten el intercambio de información entre funciones de una manera más sencilla.\n"
      ],
      "metadata": {
        "id": "Wy-_ON7E43-m"
      }
    },
    {
      "cell_type": "markdown",
      "source": [
        "4. ¿Cuál es la función objetivo?<br><br>\n",
        "Maximizar el valor de la audiencia organizando los partidos de una fecha en los horarios disponibles"
      ],
      "metadata": {
        "id": "86iXPxjb6k8L"
      }
    },
    {
      "cell_type": "markdown",
      "source": [
        "5. ¿Es un problema de maximización o minimización?<br><br>\n",
        "Ees un problema de maximización"
      ],
      "metadata": {
        "id": "PrYDEBbc7b9B"
      }
    },
    {
      "cell_type": "markdown",
      "source": [
        "6. Diseña un algoritmo para resolver el problema por fuerza bruta"
      ],
      "metadata": {
        "id": "Y8Z1JohW8uJK"
      }
    },
    {
      "cell_type": "markdown",
      "metadata": {
        "id": "Skxfj7CJ60bM"
      },
      "source": [
        "Para Encontrar una cota hacemos un algoritmo de fuerza bruta realizando una restricción para simplificar el problema, esta restricción consiste en dejar un partido por horario, el número de permutaciones para este caso es de 3628800"
      ]
    },
    {
      "cell_type": "code",
      "execution_count": 7,
      "metadata": {
        "id": "lhe7VQ_A0vjb"
      },
      "outputs": [],
      "source": [
        "#Generamos las permutaciones posibles para el caso y lo guardamos en una lista\n",
        "\n",
        "def generar_combinaciones(partidos, horarios):\n",
        "    return list(permutations(partidos, len(horarios)))\n",
        "\n"
      ]
    },
    {
      "cell_type": "markdown",
      "metadata": {
        "id": "akg-JBX4ST1c"
      },
      "source": [
        "Ahora generamos una función para asociar el valor de la audiciencia de cada partido.\n",
        "\n"
      ]
    },
    {
      "cell_type": "code",
      "execution_count": 8,
      "metadata": {
        "id": "hq4cmKyc7bKv"
      },
      "outputs": [],
      "source": [
        "\n",
        "def audiencia(fecha):\n",
        "    audiencia_por_fecha = []\n",
        "    for perm in fecha:\n",
        "        audiencia = []\n",
        "        partidos = []\n",
        "        for partido in perm:\n",
        "            if partido == 'Celta-Real Madrid':\n",
        "                audiencia.append(1.3)\n",
        "                partidos.append(partido)\n",
        "            elif partido == 'Valencia-Real_Sociedad':\n",
        "                audiencia.append(1.3)\n",
        "                partidos.append(partido)\n",
        "            elif partido == 'Mallorca-Eibar':\n",
        "                audiencia.append(0.47)\n",
        "                partidos.append(partido)\n",
        "            elif partido == 'Athetic-Barcelona':\n",
        "                audiencia.append(1.3)\n",
        "                partidos.append(partido)\n",
        "            elif partido == 'Leganes-Osasuna':\n",
        "                audiencia.append(0.47)\n",
        "                partidos.append(partido)\n",
        "            elif partido == 'Villareal-Granada':\n",
        "                audiencia.append(0.75)\n",
        "                partidos.append(partido)\n",
        "            elif partido == 'Alavés-Levante':\n",
        "                audiencia.append(0.9)\n",
        "                partidos.append(partido)\n",
        "            elif partido == 'Espanyol-Sevilla':\n",
        "                audiencia.append(0.9)\n",
        "                partidos.append(partido)\n",
        "            elif partido == 'Betis-Valladolid':\n",
        "                audiencia.append(0.75)\n",
        "                partidos.append(partido)\n",
        "            elif partido == 'Atlético-Getafe':\n",
        "                audiencia.append(0.9)\n",
        "                partidos.append(partido)\n",
        "        audiencia_por_fecha.append((audiencia, partidos))\n",
        "    return audiencia_por_fecha\n",
        "\n",
        "\n"
      ]
    },
    {
      "cell_type": "markdown",
      "source": [
        "Ahora dependiendo del orden que tenga la permutación del partido, habría que asociarle a cada encuentro el coeficiente de acuerdo al horario del partido."
      ],
      "metadata": {
        "id": "2JSOqNNB9K2Z"
      }
    },
    {
      "cell_type": "code",
      "execution_count": 9,
      "metadata": {
        "id": "H4PTPU0sJBnK"
      },
      "outputs": [],
      "source": [
        "def peso(audiencia):\n",
        "  peso_por_fecha = []\n",
        "  mayor_valor = 0\n",
        "  for perm in audiencia:\n",
        "    pesos_dia = [0.4, 0.55, 0.7, 0.8, 1, 0.45, 0.75, 0.85, 1, 0.4]\n",
        "    peso = np.multiply(perm[0],pesos_dia)\n",
        "    suma_peso = np.sum(peso)\n",
        "    if suma_peso > mayor_valor: # en esta parte del código buscamos guardar el valor de permutación con máximo valor y salvar dicha permutación\n",
        "      mayor_valor=suma_peso\n",
        "      perm_max = perm\n",
        "    peso_por_fecha.append(suma_peso)\n",
        "  peso_por_fecha = max(peso_por_fecha)\n",
        "  perm_max\n",
        "  return peso_por_fecha, perm_max\n"
      ]
    },
    {
      "cell_type": "markdown",
      "source": [
        "Ahora con las funciones listas procedemos a hacer los cálculos"
      ],
      "metadata": {
        "id": "2zUXoWfl-uOg"
      }
    },
    {
      "cell_type": "code",
      "execution_count": 10,
      "metadata": {
        "id": "TlYUtYrgaVSy"
      },
      "outputs": [],
      "source": [
        "\n",
        "partidos = [\"Celta-Real Madrid\", \"Valencia-Real_Sociedad\", \"Mallorca-Eibar\", \"Athetic-Barcelona\", \"Leganes-Osasuna\", \"Villareal-Granada\", \"Alavés-Levante\", \"Espanyol-Sevilla\", \"Betis-Valladolid\", \"Atlético-Getafe\"]\n",
        "horarios = [\"V20\", \"S12\", \"S16\", \"S18\", \"S20\", \"D12\", \"D16\", \"D18\", \"D20\", \"L20\"]\n",
        "calcular_peso = peso(audiencia(generar_combinaciones(partidos, horarios)))\n",
        "\n",
        "\n"
      ]
    },
    {
      "cell_type": "code",
      "execution_count": 11,
      "metadata": {
        "colab": {
          "base_uri": "https://localhost:8080/"
        },
        "id": "ypja8cebP7zz",
        "outputId": "b0fbd223-4994-4d85-cde2-c4e238e84f56"
      },
      "outputs": [
        {
          "output_type": "stream",
          "name": "stdout",
          "text": [
            "La mayor audiencia encontrada fue: 6.856\n",
            "Horario V20  Encuentro  Mallorca-Eibar\n",
            "Horario S12  Encuentro  Villareal-Granada\n",
            "Horario S16  Encuentro  Alavés-Levante\n",
            "Horario S18  Encuentro  Espanyol-Sevilla\n",
            "Horario S20  Encuentro  Celta-Real Madrid\n",
            "Horario D12  Encuentro  Betis-Valladolid\n",
            "Horario D16  Encuentro  Atlético-Getafe\n",
            "Horario D18  Encuentro  Valencia-Real_Sociedad\n",
            "Horario D20  Encuentro  Athetic-Barcelona\n",
            "Horario L20  Encuentro  Leganes-Osasuna\n"
          ]
        }
      ],
      "source": [
        "print(\"La mayor audiencia encontrada fue:\", calcular_peso[0])\n",
        "for i in range(10):\n",
        "  print(\"Horario\" ,horarios[i],  \" Encuentro \", calcular_peso[1][1][i])"
      ]
    },
    {
      "cell_type": "markdown",
      "source": [
        "Ahora con la solución por fuerza bruta como cota, vamos a tratar de encontrar una mejor solución"
      ],
      "metadata": {
        "id": "3GLmq_N0-46H"
      }
    },
    {
      "cell_type": "markdown",
      "source": [
        "7. Calcula la complejidad del algoritmo"
      ],
      "metadata": {
        "id": "OMjxg-DvAP1P"
      }
    },
    {
      "cell_type": "markdown",
      "source": [
        "generar_combinaciones: Esta función utiliza la permutations de la biblioteca itertools, que genera todas las posibles permutaciones de los partidos dados los horarios. La complejidad de permutations es O(n!), donde 'n' es el número de elementos a permutar. Por lo tanto, la complejidad de generar_combinaciones es O(n!).\n",
        "\n",
        "audiencia: La función audiencia recorre todas las permutaciones generadas anteriormente y realiza operaciones constantes (comparaciones y asignaciones) para obtener las audiencias y partidos correspondientes a cada fecha. Dado que las operaciones dentro del bucle son constantes, la complejidad de esta función es O(n), donde 'n' es el número de permutaciones generadas.\n",
        "\n",
        "peso: En esta función, hay otro bucle que recorre todas las permutaciones de las fechas. Dentro de este bucle, se realizan operaciones de multiplicación y suma utilizando la biblioteca numpy, pero estas operaciones también son constantes en términos de tiempo de ejecución. El bucle principal tiene una complejidad de O(n), donde 'n' es el número de permutaciones de fechas.\n",
        "\n",
        "Por lo tanto, si combinamos las complejidades de las tres funciones, obtenemos la complejidad total del algoritmo:\n",
        "\n",
        "O(n!) + O(n) + O(n)\n",
        "\n",
        "El término O(n!) domina significativamente sobre los otros términos, ya que el factorial crece mucho más rápido que una función lineal. Entonces, podemos decir que la complejidad total del algoritmo es aproximadamente O(n!), donde 'n' es el número de partidos. Es importante tener en cuenta que calcular todas las permutaciones posibles puede llevar mucho tiempo y no es una buena opción para un número grande de partidos. Si el número de partidos es grande, se debería considerar una estrategia más eficiente para obtener la solución deseada.\n"
      ],
      "metadata": {
        "id": "HlYTX3GQAP9-"
      }
    },
    {
      "cell_type": "markdown",
      "source": [
        "Para poder recorrer todas las posibilidades por fuerza bruta, habría que realizar los mismos cálculos pero recorriendo cada una de las posibilidades de la siguiente matriz que tiene en cuenta los valores del coeficiente además de las repeticiones por partido que se podrían presentar. Aunque en términos de complejidad seguiría siendo O(n!) el n sería muchísimo más grande y la implementación en tiempos razonables los hizo muy complicado de implementar por lo cual se hicieron las restricciones adicionales"
      ],
      "metadata": {
        "id": "JlOhAUaqGSr6"
      }
    },
    {
      "cell_type": "code",
      "execution_count": 12,
      "metadata": {
        "id": "lD5nAk0UVjIy"
      },
      "outputs": [],
      "source": [
        "def matriz_dias(fechas):\n",
        "\n",
        "    dias= np.zeros((8,10))\n",
        "\n",
        "    for x in range(10):\n",
        "        dias[0][x]=fechas[x]\n",
        "\n",
        "    for y in range(8):\n",
        "        for z in range(10):\n",
        "            if y==1:\n",
        "                dias[y][z]=dias[0][z]*0.75\n",
        "            if y==2:\n",
        "                dias[y][z]=dias[0][z]*0.65\n",
        "            if y==3:\n",
        "                dias[y][z]=dias[0][z]*0.4\n",
        "            if y==4:\n",
        "                dias[y][z]=dias[0][z]*0.3\n",
        "            if y==5:\n",
        "                dias[y][z]=dias[0][z]*0.25\n",
        "            if y==6:\n",
        "                dias[y][z]=dias[0][z]*0.22\n",
        "            if y==7:\n",
        "                dias[y][z]=dias[0][z]*0.2\n",
        "            if y==8:\n",
        "                dias[y][z]=dias[0][z]*0.2\n",
        "\n",
        "\n",
        "    print(dias)\n",
        "    return dias\n"
      ]
    },
    {
      "cell_type": "markdown",
      "source": [
        "\n",
        "8. Diseña un algoritmo que mejore la complejidad del algoritmo por fuerza bruta.\n",
        "Argumenta porque crees que mejora el algoritmo por fuerza bruta\n",
        "\n"
      ],
      "metadata": {
        "id": "qXMKJYawBJ73"
      }
    },
    {
      "cell_type": "markdown",
      "source": [
        "Se pensó en un algoritmo de tipo GRAPS donde en cada asignación de un horario para un partido se busca los coeficientes de (horario/repeticiones) con mayor valor; pero se elige de los mayores uno aleatoriamente para poder agregar aleatoriedad a la solución. Mejora a los algoritmos por fuerza bruta porque parte de una organización aleatoria de los partidos y después trata de arman una buena solución (algoritmo GREDY) tomando decisiones en cada paso sin tener que probar todas soluciones posibles. En el problema en particular las soluciones con muchas repeticiones en un horario castigan profundamente la función objetivo por lo cual el algoritmo implementado tiene la ventaja que no recorre esos espacios de soluciones reduciendo la complejidad del algoritmo. Finalmente se ocupan las mejores combinaciones y se hace una busqueda local para tratar de encontrar una mejora solución"
      ],
      "metadata": {
        "id": "JhiZdoBYJzyB"
      }
    },
    {
      "cell_type": "code",
      "execution_count": 13,
      "metadata": {
        "id": "YXOzSoo9btMf"
      },
      "outputs": [],
      "source": [
        "# Implementamos una función para calcular los valores más altos de la matríz implementada\n",
        "\n",
        "def obtener_tres_valores_mas_altos_con_coordenadas(matriz):\n",
        "    # Convertir la matriz a un arreglo unidimensional\n",
        "    arr = matriz.flatten()\n",
        "\n",
        "    # Obtener los índices que ordenan el arreglo de manera ascendente\n",
        "    indices_ordenados = np.argsort(arr)\n",
        "\n",
        "    # Seleccionar los tres últimos índices (los correspondientes a los valores más altos)\n",
        "    tres_indices_mas_altos = indices_ordenados[-3:]\n",
        "\n",
        "    # Obtener los tres valores más altos\n",
        "    tres_valores_mas_altos = arr[tres_indices_mas_altos]\n",
        "\n",
        "    # Obtener las coordenadas (fila, columna) de los tres valores más altos en la matriz original\n",
        "    filas, columnas = np.unravel_index(tres_indices_mas_altos, matriz.shape)\n",
        "\n",
        "    # Devolver los tres valores más altos y sus coordenadas\n",
        "    return tres_valores_mas_altos, filas, columnas\n",
        "\n",
        "# De esos tres valores vamos a elegir uno de forma aleatoria\n",
        "\n",
        "def obtener_valor_aleatorio_mas_alto_con_coordenada(matriz):\n",
        "    # Obtener los tres valores más altos y sus coordenadas\n",
        "    tres_valores_altos, filas, columnas = obtener_tres_valores_mas_altos_con_coordenadas(matriz)\n",
        "\n",
        "    # Seleccionar un valor aleatorio de entre los tres valores más altos\n",
        "    valor_aleatorio = random.choice(tres_valores_altos)\n",
        "\n",
        "    # Obtener la coordenada correspondiente al valor aleatorio en la matriz original\n",
        "    indice_valor_aleatorio = np.where(tres_valores_altos == valor_aleatorio)[0][0]\n",
        "    fila_valor_aleatorio = filas[indice_valor_aleatorio]\n",
        "    columna_valor_aleatorio = columnas[indice_valor_aleatorio]\n",
        "\n",
        "    return valor_aleatorio, fila_valor_aleatorio, columna_valor_aleatorio\n",
        "\n",
        "# Creamos una función que modifique la matriz dejando en cero si un valor de la misma fue escogido\n",
        "\n",
        "def reemplazar_valor_por_cero(matriz, fila, columna):\n",
        "    # Crear una copia de la matriz original para no modificarla directamente\n",
        "    matriz_modificada = matriz.copy()\n",
        "\n",
        "    # Reemplazar el valor en la posición dada por cero\n",
        "    matriz_modificada[fila, columna] = 0\n",
        "\n",
        "    return matriz_modificada\n",
        "\n"
      ]
    },
    {
      "cell_type": "code",
      "execution_count": 14,
      "metadata": {
        "id": "mjdjkRADLjbA"
      },
      "outputs": [],
      "source": [
        "def audiencia2(fecha):\n",
        "    audiencia_por_fecha = []\n",
        "    for perm in fecha:\n",
        "        audiencia = []\n",
        "        partidos = []\n",
        "        for partido in perm:\n",
        "            if partido == 'Celta-Real Madrid':\n",
        "                audiencia.append(1.3)\n",
        "                partidos.append(partido)\n",
        "            elif partido == 'Valencia-Real_Sociedad':\n",
        "                audiencia.append(1.3)\n",
        "                partidos.append(partido)\n",
        "            elif partido == 'Mallorca-Eibar':\n",
        "                audiencia.append(0.47)\n",
        "                partidos.append(partido)\n",
        "            elif partido == 'Athetic-Barcelona':\n",
        "                audiencia.append(1.3)\n",
        "                partidos.append(partido)\n",
        "            elif partido == 'Leganes-Osasuna':\n",
        "                audiencia.append(0.47)\n",
        "                partidos.append(partido)\n",
        "            elif partido == 'Villareal-Granada':\n",
        "                audiencia.append(0.75)\n",
        "                partidos.append(partido)\n",
        "            elif partido == 'Alavés-Levante':\n",
        "                audiencia.append(0.9)\n",
        "                partidos.append(partido)\n",
        "            elif partido == 'Espanyol-Sevilla':\n",
        "                audiencia.append(0.9)\n",
        "                partidos.append(partido)\n",
        "            elif partido == 'Betis-Valladolid':\n",
        "                audiencia.append(0.75)\n",
        "                partidos.append(partido)\n",
        "            elif partido == 'Atlético-Getafe':\n",
        "                audiencia.append(0.9)\n",
        "                partidos.append(partido)\n",
        "        audiencia_por_fecha.append(audiencia)\n",
        "    return audiencia_por_fecha\n"
      ]
    },
    {
      "cell_type": "code",
      "execution_count": 15,
      "metadata": {
        "id": "-GozS84iJIFc"
      },
      "outputs": [],
      "source": [
        "def elegir_los_horarios(permutaciones, matriz_costo_repeticiones):\n",
        "  horarios = []\n",
        "  repeticiones = []\n",
        "  audiencia = []\n",
        "  for permutacion in permutaciones:\n",
        "      matriz_modificada = matriz_costo_repeticiones.copy()\n",
        "      horario = []\n",
        "      #Aplicamos las restricciones que nos plantea el problema dejar la fecha del viernes y el lunes con al menos un partido\n",
        "      matriz_modificada = reemplazar_valor_por_cero(matriz_modificada, 0, 0)\n",
        "      horario.append((permutacion[0], 0))\n",
        "      matriz_modificada = reemplazar_valor_por_cero(matriz_modificada, 0, 9)\n",
        "      horario.append((permutacion[1], 9))\n",
        "      for x in range(2, len(permutacion)):\n",
        "        valor_aleatorio, fila_aleatorio, columna_aleatorio = obtener_valor_aleatorio_mas_alto_con_coordenada(matriz_modificada)\n",
        "        matriz_modificada = reemplazar_valor_por_cero(matriz_modificada, fila_aleatorio, columna_aleatorio)\n",
        "        horario.append((permutacion[x], columna_aleatorio))\n",
        "      array_valores_numericos = obtener_repeticiones_por_fila([tupla[1] for tupla in horario])\n",
        "      repeticiones.append(array_valores_numericos)\n",
        "      horarios.append(horario)\n",
        "\n",
        "      array_audicencia = [tupla[0] for tupla in horario]\n",
        "      audiencia.append(array_audicencia)\n",
        "      audiencia_final = audiencia2(audiencia)\n",
        "  return horarios, repeticiones, audiencia_final, matriz_costo_repeticiones\n",
        "\n",
        "def obtener_repeticiones_por_fila(fila):\n",
        "    frecuencia = Counter(fila)\n",
        "    repeticiones = [frecuencia[i] for i in range(10)]\n",
        "    return repeticiones\n"
      ]
    },
    {
      "cell_type": "code",
      "execution_count": 28,
      "metadata": {
        "id": "YlmfJNOLPNcY"
      },
      "outputs": [],
      "source": [
        "def peso2(audiencia):\n",
        "  peso_por_permutacion = []\n",
        "  mayor_valor = 0\n",
        "  valor_horarios_total = []\n",
        "\n",
        "  for permutacion in audiencia[0]: #('Celta-Real Madrid', 0) necesitamos rescatar de la tupla el número del horario asignado\n",
        "      valor_horario_tupla = []\n",
        "      for dupla in permutacion:\n",
        "        valor_horario_tupla.append(dupla[1])\n",
        "      valor_horarios_total.append(valor_horario_tupla)\n",
        "\n",
        "  for x in range(len(audiencia[2])):\n",
        "      peso = 0\n",
        "      peso_por_fecha = []\n",
        "      suma_peso = 0\n",
        "      for y in range(len(audiencia[2][x])):\n",
        "        peso = audiencia[2][x][y]*audiencia[3][(audiencia[1][x][valor_horarios_total[x][y]]-1)][valor_horarios_total[x][y]]\n",
        "        peso_por_fecha.append(peso)\n",
        "      peso_por_permutacion.append(peso_por_fecha)\n",
        "      suma_peso = np.sum(peso_por_permutacion[x])\n",
        "      if suma_peso > mayor_valor:\n",
        "        mayor_valor = suma_peso\n",
        "        perm_max = audiencia[2][x]\n",
        "        comb_max = audiencia[1][x]\n",
        "        emparejamiento = audiencia[0][x]\n",
        "        valor_horario = valor_horarios_total[x]\n",
        "\n",
        "  return  mayor_valor, perm_max, comb_max, emparejamiento, valor_horario\n",
        "\n",
        "\n",
        "\n"
      ]
    },
    {
      "cell_type": "code",
      "execution_count": null,
      "metadata": {
        "id": "J8mBjfhSWyI7"
      },
      "outputs": [],
      "source": [
        "horarios=np.array([0.4,0.55,0.7,0.8,1,0.45,0.75,0.85,1,0.4])\n",
        "matriz_costo_repeticiones = matriz_dias(horarios)\n",
        "partidos = [\"Celta-Real Madrid\", \"Valencia-Real_Sociedad\", \"Mallorca-Eibar\", \"Athetic-Barcelona\", \"Leganes-Osasuna\", \"Villareal-Granada\", \"Alavés-Levante\", \"Espanyol-Sevilla\", \"Betis-Valladolid\", \"Atlético-Getafe\"]\n",
        "horarios = [\"V20\", \"S12\", \"S16\", \"S18\", \"S20\", \"D12\", \"D16\", \"D18\", \"D20\", \"L20\"]\n",
        "combinaciones = generar_combinaciones(partidos, horarios)\n",
        "#Vamos a encontrar la mejor solución para las  10000 primeras permutaciones\n",
        "elegir_horarios = elegir_los_horarios(combinaciones[0:10000], matriz_costo_repeticiones)"
      ]
    },
    {
      "cell_type": "code",
      "execution_count": 54,
      "metadata": {
        "colab": {
          "base_uri": "https://localhost:8080/"
        },
        "id": "u7FtS8-p47ux",
        "outputId": "54b2dbd6-17ae-4a96-d52b-48309e6122bd"
      },
      "outputs": [
        {
          "output_type": "stream",
          "name": "stdout",
          "text": [
            "primera solución (6.686, [0.47, 0.47, 1.3, 0.9, 1.3, 1.3, 0.9, 0.9, 0.75, 0.75], [1, 0, 1, 1, 3, 0, 1, 1, 1, 1], [('Leganes-Osasuna', 0), ('Mallorca-Eibar', 9), ('Celta-Real Madrid', 7), ('Alavés-Levante', 4), ('Athetic-Barcelona', 3), ('Valencia-Real_Sociedad', 8), ('Espanyol-Sevilla', 6), ('Atlético-Getafe', 2), ('Betis-Valladolid', 4), ('Villareal-Granada', 4)], [0, 9, 7, 4, 3, 8, 6, 2, 4, 4])\n"
          ]
        }
      ],
      "source": [
        "print(\"primera solución\", peso2(elegir_horarios))"
      ]
    },
    {
      "cell_type": "code",
      "execution_count": 56,
      "metadata": {
        "colab": {
          "base_uri": "https://localhost:8080/"
        },
        "id": "QpAKayWpaZ0L",
        "outputId": "5fcc0b53-6927-48ff-8bfa-948d1e0594b2"
      },
      "outputs": [
        {
          "output_type": "stream",
          "name": "stdout",
          "text": [
            "segunda solucion (6.666, [0.47, 0.47, 1.3, 1.3, 0.9, 0.75, 0.9, 0.9, 0.75, 1.3], [1, 0, 1, 1, 3, 0, 1, 1, 1, 1], [('Leganes-Osasuna', 0), ('Mallorca-Eibar', 9), ('Athetic-Barcelona', 8), ('Valencia-Real_Sociedad', 7), ('Atlético-Getafe', 3), ('Villareal-Granada', 4), ('Espanyol-Sevilla', 4), ('Alavés-Levante', 2), ('Betis-Valladolid', 4), ('Celta-Real Madrid', 6)], [0, 9, 8, 7, 3, 4, 4, 2, 4, 6])\n"
          ]
        }
      ],
      "source": [
        "#Vamos a encontrar la mejor solución para 10000 permutaciones aleatorias\n",
        "combinaciones_ateatorias = []\n",
        "for i in range(10000):\n",
        " combinacion = combinaciones[random.randint(0, len(combinaciones))]\n",
        " combinaciones_ateatorias.append(combinacion)\n",
        "elegir_horarios = elegir_los_horarios(combinaciones_ateatorias, matriz_costo_repeticiones)\n",
        "print(\"segunda solucion\", peso2(elegir_horarios))\n"
      ]
    },
    {
      "cell_type": "markdown",
      "source": [
        "9. Calcula la complejidad del algoritmo"
      ],
      "metadata": {
        "id": "17h2HBplMoZg"
      }
    },
    {
      "cell_type": "markdown",
      "source": [
        "generar_combinaciones: Esta función utiliza la permutations de la biblioteca itertools, que genera todas las posibles permutaciones de los partidos dados los horarios. La complejidad de permutations es O(n!), donde 'n' es el número de elementos a permutar. Por lo tanto, la complejidad de generar_combinaciones es O(n!).\n",
        "\n",
        "matriz_dias: En esta función, se crea una matriz de tamaño fijo 8x10 y se realizan dos bucles anidados para llenar la matriz. Dado que el tamaño de la matriz es fijo y pequeño (8x10), la complejidad de esta función es O(1), es decir, constante.\n",
        "\n",
        "obtener_tres_valores_mas_altos_con_coordenadas y obtener_valor_aleatorio_mas_alto_con_coordenada: Ambas funciones realizan operaciones que dependen del tamaño de la matriz (8x10). La operación más costosa es la ordenación de los elementos de la matriz, que tiene una complejidad de O(80 log 80), pero dado que 80 es un valor constante, podemos considerar la complejidad de estas funciones como O(1), es decir, constante.\n",
        "\n",
        "reemplazar_valor_por_cero: Esta función realiza una copia de la matriz y luego modifica un elemento de la misma. Dado que la copia de la matriz es una operación que depende del tamaño de la matriz (8x10), la complejidad de esta función es O(80), que también podemos considerar como O(1) ya que el tamaño es constante.\n",
        "\n",
        "audiencia2: Esta función contiene un bucle for que recorre todas las permutaciones de partidos y realiza operaciones constantes dentro del bucle. La complejidad de esta función es O(n), donde 'n' es el número de permutaciones generadas.\n",
        "\n",
        "elegir_los_horarios: Esta función llama a otras funciones con complejidad O(1) y O(n) (por el uso de obtener_repeticiones_por_fila), pero dentro del bucle for hay una llamada a obtener_valor_aleatorio_mas_alto_con_coordenada, que tiene una complejidad de O(1). En general, la complejidad de esta función es O(n), donde 'n' es el número de permutaciones.\n",
        "\n",
        "obtener_repeticiones_por_fila: Esta función utiliza la biblioteca Counter, que tiene una complejidad de O(k), donde 'k' es el número de elementos en la fila. Dado que en este caso 'k' es siempre 10 (el número de columnas), la complejidad es O(10), que podemos considerar como O(1) o constante.\n",
        "\n",
        "peso2: Esta función contiene dos bucles for anidados, pero ambos dependen del tamaño de la matriz (8x10), por lo que la complejidad de esta función es O(1) o constante.\n",
        "\n",
        "El código principal del bucle for tiene una complejidad de O(1), ya que todas las operaciones son constantes y no dependen del tamaño de las combinaciones aleatorias generadas (10000 en este caso).\n",
        "\n",
        "En resumen, la complejidad total del algoritmo se encuentra en la función generar_combinaciones, que es O(n!)."
      ],
      "metadata": {
        "id": "wQ3mQeV9QIS8"
      }
    },
    {
      "cell_type": "markdown",
      "source": [
        "10. Según el problema (y tenga sentido), diseña un juego de datos de entrada aleatorio."
      ],
      "metadata": {
        "id": "dun5F-bn3r6W"
      }
    },
    {
      "cell_type": "code",
      "execution_count": 52,
      "metadata": {
        "colab": {
          "base_uri": "https://localhost:8080/",
          "height": 452
        },
        "id": "nLhKhecKeAcG",
        "outputId": "2c3526b2-7417-431b-d606-cf1e74a1dee8"
      },
      "outputs": [
        {
          "output_type": "stream",
          "name": "stdout",
          "text": [
            "(6.6434999999999995, [0.47, 0.47, 1.3, 0.75, 0.75, 0.9, 1.3, 0.9, 0.9, 1.3], [1, 0, 1, 1, 3, 0, 1, 1, 1, 1], [('Mallorca-Eibar', 0), ('Leganes-Osasuna', 9), ('Valencia-Real_Sociedad', 8), ('Betis-Valladolid', 4), ('Villareal-Granada', 3), ('Alavés-Levante', 4), ('Athetic-Barcelona', 7), ('Espanyol-Sevilla', 2), ('Atlético-Getafe', 4), ('Celta-Real Madrid', 6)], [0, 9, 8, 4, 3, 4, 7, 2, 4, 6])\n",
            "(6.670999999999999, [0.47, 0.47, 1.3, 0.75, 1.3, 0.9, 0.75, 1.3, 0.9, 0.9], [1, 0, 1, 1, 3, 0, 1, 1, 1, 1], [('Leganes-Osasuna', 0), ('Mallorca-Eibar', 9), ('Celta-Real Madrid', 8), ('Betis-Valladolid', 4), ('Valencia-Real_Sociedad', 3), ('Espanyol-Sevilla', 4), ('Villareal-Granada', 6), ('Athetic-Barcelona', 7), ('Atlético-Getafe', 2), ('Alavés-Levante', 4)], [0, 9, 8, 4, 3, 4, 6, 7, 2, 4])\n",
            "(6.666, [0.47, 0.47, 1.3, 0.9, 0.75, 0.75, 1.3, 0.9, 0.9, 1.3], [1, 0, 1, 1, 3, 0, 1, 1, 1, 1], [('Leganes-Osasuna', 0), ('Mallorca-Eibar', 9), ('Valencia-Real_Sociedad', 8), ('Espanyol-Sevilla', 3), ('Betis-Valladolid', 4), ('Villareal-Granada', 4), ('Athetic-Barcelona', 7), ('Atlético-Getafe', 2), ('Alavés-Levante', 4), ('Celta-Real Madrid', 6)], [0, 9, 8, 3, 4, 4, 7, 2, 4, 6])\n",
            "(6.686, [0.47, 0.47, 1.3, 0.9, 1.3, 1.3, 0.9, 0.9, 0.75, 0.75], [1, 0, 1, 1, 3, 0, 1, 1, 1, 1], [('Leganes-Osasuna', 0), ('Mallorca-Eibar', 9), ('Celta-Real Madrid', 7), ('Alavés-Levante', 4), ('Athetic-Barcelona', 3), ('Valencia-Real_Sociedad', 8), ('Espanyol-Sevilla', 6), ('Atlético-Getafe', 2), ('Betis-Valladolid', 4), ('Villareal-Granada', 4)], [0, 9, 7, 4, 3, 8, 6, 2, 4, 4])\n"
          ]
        },
        {
          "output_type": "error",
          "ename": "KeyboardInterrupt",
          "evalue": "ignored",
          "traceback": [
            "\u001b[0;31m---------------------------------------------------------------------------\u001b[0m",
            "\u001b[0;31mKeyboardInterrupt\u001b[0m                         Traceback (most recent call last)",
            "\u001b[0;32m<ipython-input-52-f3e1d4d3d8f9>\u001b[0m in \u001b[0;36m<cell line: 2>\u001b[0;34m()\u001b[0m\n\u001b[1;32m      4\u001b[0m      \u001b[0mcombinacion\u001b[0m \u001b[0;34m=\u001b[0m \u001b[0mcombinaciones\u001b[0m\u001b[0;34m[\u001b[0m\u001b[0mrandom\u001b[0m\u001b[0;34m.\u001b[0m\u001b[0mrandint\u001b[0m\u001b[0;34m(\u001b[0m\u001b[0;36m0\u001b[0m\u001b[0;34m,\u001b[0m \u001b[0mlen\u001b[0m\u001b[0;34m(\u001b[0m\u001b[0mcombinaciones\u001b[0m\u001b[0;34m)\u001b[0m\u001b[0;34m)\u001b[0m\u001b[0;34m]\u001b[0m\u001b[0;34m\u001b[0m\u001b[0;34m\u001b[0m\u001b[0m\n\u001b[1;32m      5\u001b[0m      \u001b[0mcombinaciones_ateatorias\u001b[0m\u001b[0;34m.\u001b[0m\u001b[0mappend\u001b[0m\u001b[0;34m(\u001b[0m\u001b[0mcombinacion\u001b[0m\u001b[0;34m)\u001b[0m\u001b[0;34m\u001b[0m\u001b[0;34m\u001b[0m\u001b[0m\n\u001b[0;32m----> 6\u001b[0;31m     \u001b[0melegir_horarios\u001b[0m \u001b[0;34m=\u001b[0m \u001b[0melegir_los_horarios\u001b[0m\u001b[0;34m(\u001b[0m\u001b[0mcombinaciones_ateatorias\u001b[0m\u001b[0;34m,\u001b[0m \u001b[0mmatriz_costo_repeticiones\u001b[0m\u001b[0;34m)\u001b[0m\u001b[0;34m\u001b[0m\u001b[0;34m\u001b[0m\u001b[0m\n\u001b[0m\u001b[1;32m      7\u001b[0m     \u001b[0mprint\u001b[0m\u001b[0;34m(\u001b[0m\u001b[0mpeso2\u001b[0m\u001b[0;34m(\u001b[0m\u001b[0melegir_horarios\u001b[0m\u001b[0;34m)\u001b[0m\u001b[0;34m)\u001b[0m\u001b[0;34m\u001b[0m\u001b[0;34m\u001b[0m\u001b[0m\n",
            "\u001b[0;32m<ipython-input-15-2ad7fe3423f7>\u001b[0m in \u001b[0;36melegir_los_horarios\u001b[0;34m(permutaciones, matriz_costo_repeticiones)\u001b[0m\n\u001b[1;32m     21\u001b[0m       \u001b[0marray_audicencia\u001b[0m \u001b[0;34m=\u001b[0m \u001b[0;34m[\u001b[0m\u001b[0mtupla\u001b[0m\u001b[0;34m[\u001b[0m\u001b[0;36m0\u001b[0m\u001b[0;34m]\u001b[0m \u001b[0;32mfor\u001b[0m \u001b[0mtupla\u001b[0m \u001b[0;32min\u001b[0m \u001b[0mhorario\u001b[0m\u001b[0;34m]\u001b[0m\u001b[0;34m\u001b[0m\u001b[0;34m\u001b[0m\u001b[0m\n\u001b[1;32m     22\u001b[0m       \u001b[0maudiencia\u001b[0m\u001b[0;34m.\u001b[0m\u001b[0mappend\u001b[0m\u001b[0;34m(\u001b[0m\u001b[0marray_audicencia\u001b[0m\u001b[0;34m)\u001b[0m\u001b[0;34m\u001b[0m\u001b[0;34m\u001b[0m\u001b[0m\n\u001b[0;32m---> 23\u001b[0;31m       \u001b[0maudiencia_final\u001b[0m \u001b[0;34m=\u001b[0m \u001b[0maudiencia2\u001b[0m\u001b[0;34m(\u001b[0m\u001b[0maudiencia\u001b[0m\u001b[0;34m)\u001b[0m\u001b[0;34m\u001b[0m\u001b[0;34m\u001b[0m\u001b[0m\n\u001b[0m\u001b[1;32m     24\u001b[0m   \u001b[0;32mreturn\u001b[0m \u001b[0mhorarios\u001b[0m\u001b[0;34m,\u001b[0m \u001b[0mrepeticiones\u001b[0m\u001b[0;34m,\u001b[0m \u001b[0maudiencia_final\u001b[0m\u001b[0;34m,\u001b[0m \u001b[0mmatriz_costo_repeticiones\u001b[0m\u001b[0;34m\u001b[0m\u001b[0;34m\u001b[0m\u001b[0m\n\u001b[1;32m     25\u001b[0m \u001b[0;34m\u001b[0m\u001b[0m\n",
            "\u001b[0;32m<ipython-input-14-f965752ce036>\u001b[0m in \u001b[0;36maudiencia2\u001b[0;34m(fecha)\u001b[0m\n\u001b[1;32m      5\u001b[0m         \u001b[0mpartidos\u001b[0m \u001b[0;34m=\u001b[0m \u001b[0;34m[\u001b[0m\u001b[0;34m]\u001b[0m\u001b[0;34m\u001b[0m\u001b[0;34m\u001b[0m\u001b[0m\n\u001b[1;32m      6\u001b[0m         \u001b[0;32mfor\u001b[0m \u001b[0mpartido\u001b[0m \u001b[0;32min\u001b[0m \u001b[0mperm\u001b[0m\u001b[0;34m:\u001b[0m\u001b[0;34m\u001b[0m\u001b[0;34m\u001b[0m\u001b[0m\n\u001b[0;32m----> 7\u001b[0;31m             \u001b[0;32mif\u001b[0m \u001b[0mpartido\u001b[0m \u001b[0;34m==\u001b[0m \u001b[0;34m'Celta-Real Madrid'\u001b[0m\u001b[0;34m:\u001b[0m\u001b[0;34m\u001b[0m\u001b[0;34m\u001b[0m\u001b[0m\n\u001b[0m\u001b[1;32m      8\u001b[0m                 \u001b[0maudiencia\u001b[0m\u001b[0;34m.\u001b[0m\u001b[0mappend\u001b[0m\u001b[0;34m(\u001b[0m\u001b[0;36m1.3\u001b[0m\u001b[0;34m)\u001b[0m\u001b[0;34m\u001b[0m\u001b[0;34m\u001b[0m\u001b[0m\n\u001b[1;32m      9\u001b[0m                 \u001b[0mpartidos\u001b[0m\u001b[0;34m.\u001b[0m\u001b[0mappend\u001b[0m\u001b[0;34m(\u001b[0m\u001b[0mpartido\u001b[0m\u001b[0;34m)\u001b[0m\u001b[0;34m\u001b[0m\u001b[0;34m\u001b[0m\u001b[0m\n",
            "\u001b[0;31mKeyboardInterrupt\u001b[0m: "
          ]
        }
      ],
      "source": [
        "combinaciones_ateatorias = []\n",
        "for x in range(5):\n",
        "    for i in range(10000):\n",
        "     combinacion = combinaciones[random.randint(0, len(combinaciones))]\n",
        "     combinaciones_ateatorias.append(combinacion)\n",
        "    elegir_horarios = elegir_los_horarios(combinaciones_ateatorias, matriz_costo_repeticiones)\n",
        "    print(peso2(elegir_horarios))"
      ]
    },
    {
      "cell_type": "markdown",
      "source": [
        "**Aparece un error pero fue porque pause la generación de soluciones por no contar con más tiempo**"
      ],
      "metadata": {
        "id": "3ZH3qJhQvNAf"
      }
    },
    {
      "cell_type": "markdown",
      "source": [
        "Finalmente realizamos una búsqueda local para tratar de encontrar una mejor solución"
      ],
      "metadata": {
        "id": "Ii0tQ1XEPKMt"
      }
    },
    {
      "cell_type": "code",
      "execution_count": 51,
      "metadata": {
        "id": "wJ8eOEIwf2sE",
        "colab": {
          "base_uri": "https://localhost:8080/"
        },
        "outputId": "6c422c6a-7f38-4467-af21-a1bd2ef3f733"
      },
      "outputs": [
        {
          "output_type": "stream",
          "name": "stdout",
          "text": [
            "(6.686000000000001, [0.47, 0.47, 1.3, 1.3, 0.9, 0.75, 0.9, 0.9, 1.3, 0.75], [1, 0, 1, 1, 3, 0, 1, 1, 1, 1], [('Mallorca-Eibar', 0), ('Leganes-Osasuna', 9), ('Athetic-Barcelona', 8), ('Celta-Real Madrid', 3), ('Atlético-Getafe', 4), ('Betis-Valladolid', 4), ('Espanyol-Sevilla', 6), ('Alavés-Levante', 2), ('Valencia-Real_Sociedad', 7), ('Villareal-Granada', 4)], [0, 9, 8, 3, 4, 4, 6, 2, 7, 4])\n"
          ]
        }
      ],
      "source": [
        "\n",
        "busqueda_local = []\n",
        "for i in range(10000):\n",
        " combinacion = ('Mallorca-Eibar', 'Leganes-Osasuna', 'Athetic-Barcelona', 'Celta-Real Madrid', 'Atlético-Getafe', 'Betis-Valladolid', 'Espanyol-Sevilla', 'Alavés-Levante', 'Valencia-Real_Sociedad', 'Villareal-Granada')\n",
        " busqueda_local.append(combinacion)\n",
        "\n",
        "elegir_horarios = elegir_los_horarios(busqueda_local, matriz_costo_repeticiones)\n",
        "print(peso2(elegir_horarios))\n"
      ]
    },
    {
      "cell_type": "code",
      "source": [
        "busqueda_local = []\n",
        "for i in range(10000):\n",
        " combinacion = ('Leganes-Osasuna', 'Mallorca-Eibar', 'Celta-Real Madrid', 'Alavés-Levante', 'Athetic-Barcelona', 'Valencia-Real_Sociedad', 'Espanyol-Sevilla', 'Atlético-Getafe', 'Betis-Valladolid', 'Villareal-Granada')\n",
        " busqueda_local.append(combinacion)\n",
        "\n",
        "elegir_horarios = elegir_los_horarios(busqueda_local, matriz_costo_repeticiones)\n",
        "print(peso2(elegir_horarios))"
      ],
      "metadata": {
        "colab": {
          "base_uri": "https://localhost:8080/"
        },
        "id": "gaszNabjbyM4",
        "outputId": "106fdaf0-a3ee-4483-ce04-99b603cd776f"
      },
      "execution_count": 57,
      "outputs": [
        {
          "output_type": "stream",
          "name": "stdout",
          "text": [
            "(6.686, [0.47, 0.47, 1.3, 0.9, 1.3, 1.3, 0.9, 0.9, 0.75, 0.75], [1, 0, 1, 1, 3, 0, 1, 1, 1, 1], [('Leganes-Osasuna', 0), ('Mallorca-Eibar', 9), ('Celta-Real Madrid', 7), ('Alavés-Levante', 4), ('Athetic-Barcelona', 3), ('Valencia-Real_Sociedad', 8), ('Espanyol-Sevilla', 6), ('Atlético-Getafe', 2), ('Betis-Valladolid', 4), ('Villareal-Granada', 4)], [0, 9, 7, 4, 3, 8, 6, 2, 4, 4])\n"
          ]
        }
      ]
    },
    {
      "cell_type": "code",
      "source": [],
      "metadata": {
        "id": "JwdWmX-5tAug"
      },
      "execution_count": null,
      "outputs": []
    }
  ],
  "metadata": {
    "colab": {
      "provenance": [],
      "include_colab_link": true
    },
    "kernelspec": {
      "display_name": "Python 3 (ipykernel)",
      "language": "python",
      "name": "python3"
    },
    "language_info": {
      "codemirror_mode": {
        "name": "ipython",
        "version": 3
      },
      "file_extension": ".py",
      "mimetype": "text/x-python",
      "name": "python",
      "nbconvert_exporter": "python",
      "pygments_lexer": "ipython3",
      "version": "3.11.3"
    }
  },
  "nbformat": 4,
  "nbformat_minor": 0
}