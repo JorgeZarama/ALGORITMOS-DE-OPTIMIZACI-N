{
  "nbformat": 4,
  "nbformat_minor": 0,
  "metadata": {
    "colab": {
      "provenance": [],
      "authorship_tag": "ABX9TyOyJYc+OVmBGmh+BJECHbpk",
      "include_colab_link": true
    },
    "kernelspec": {
      "name": "python3",
      "display_name": "Python 3"
    },
    "language_info": {
      "name": "python"
    }
  },
  "cells": [
    {
      "cell_type": "markdown",
      "metadata": {
        "id": "view-in-github",
        "colab_type": "text"
      },
      "source": [
        "<a href=\"https://colab.research.google.com/github/JorgeZarama/ALGORITMOS-DE-OPTIMIZACI-N/blob/main/determinante_recursivo.ipynb\" target=\"_parent\"><img src=\"https://colab.research.google.com/assets/colab-badge.svg\" alt=\"Open In Colab\"/></a>"
      ]
    },
    {
      "cell_type": "markdown",
      "source": [
        "## a. Implementa una función, determinante recursivo, que obtenga el determinante de una matriz cuadrada utilizando la definición recursiva de Laplace.\n"
      ],
      "metadata": {
        "id": "F8P-CPqwhkAX"
      }
    },
    {
      "cell_type": "code",
      "source": [
        "import numpy as np\n",
        "\n",
        "\n",
        "def determinante_recursivo(list):\n",
        "  nueva_matriz = np.array(list)\n",
        "\n",
        "#Caso base: matriz de 1x1, el determinante es el único elemento\n",
        "  factor = nueva_matriz.shape[0]\n",
        "  if factor == 1:\n",
        "    return print(\"determinante :\", nueva_matriz[0])\n",
        "\n",
        "#Comprobamos si esta matriz es cuadrada\n",
        "  else:\n",
        "    if nueva_matriz.shape[0]!= nueva_matriz.shape[1]:\n",
        "      return print(\"Esta no es una matriz cuadrada\")\n",
        "\n",
        "#Caso base: matriz de 2x2, aplicamos la fórmula ad-bc\n",
        "    if factor == 2:\n",
        "      return print(\"determinante :\", nueva_matriz[0][0] * nueva_matriz[1][1] - nueva_matriz[0][1] * nueva_matriz[1][0])\n",
        "\n",
        "#Agregamos n-1 filas a la matriz para aplicar el determinante de una matriz cuadrada utilizando la definición recursiva de Laplace para matrices de orden nxn\n",
        "    for i in range(int(nueva_matriz.shape[0])-1):\n",
        "      nueva_matriz = np.vstack((nueva_matriz,nueva_matriz[i]))\n",
        "\n",
        "    primer_factor = 1\n",
        "    sumatoria = 0\n",
        "    for i in range(int(factor)):\n",
        "      for j in range(int(factor)):\n",
        "        primer_factor *= nueva_matriz[i+j][j]\n",
        "      sumatoria += primer_factor\n",
        "      #print(\"sumatoria 1\",sumatoria)\n",
        "      primer_factor = 1\n",
        "\n",
        "    primer_factor = 1\n",
        "    sumatoria2 = 0\n",
        "    for i in range(int(factor)):\n",
        "      for j in range(int(factor)):\n",
        "        primer_factor *= nueva_matriz[i+j][factor-1-j]\n",
        "      sumatoria2 += primer_factor\n",
        "      #print(sumatoria2)\n",
        "      primer_factor = 1\n",
        "    print(\"determinante :\", sumatoria-sumatoria2)"
      ],
      "metadata": {
        "id": "rOvEGmPz3bOb"
      },
      "execution_count": null,
      "outputs": []
    },
    {
      "cell_type": "markdown",
      "source": [
        "Realizamos las respectivas pruebas"
      ],
      "metadata": {
        "id": "7MWaRSPWhyPt"
      }
    },
    {
      "cell_type": "code",
      "source": [
        "list = [(1,0,0),(3,2,0),(2,1,3)]\n",
        "\n",
        "determinante_recursivo(list)\n"
      ],
      "metadata": {
        "colab": {
          "base_uri": "https://localhost:8080/"
        },
        "id": "l0VCdKsKhhfk",
        "outputId": "9efa239b-509c-4b73-c1f7-f7747eede716"
      },
      "execution_count": null,
      "outputs": [
        {
          "output_type": "stream",
          "name": "stdout",
          "text": [
            "determinante : 6\n"
          ]
        }
      ]
    },
    {
      "cell_type": "markdown",
      "source": [
        "##b. Si A es una matriz cuadrada n×n y triangular (superior o inferior, es decir, con entradas nulas por debajo o por encima de la diagonal, respectivamente), ¿existe alguna forma de calcular de forma directa y sencilla su determinante? Justifíquese la respuesta.\n"
      ],
      "metadata": {
        "id": "0vm6dFJviWrY"
      }
    },
    {
      "cell_type": "code",
      "source": [
        "#Si para esto creamos una función que se llama matriz_triangular la cual n\n",
        "def matriz_triangular(list):\n",
        "  nueva_matriz = np.array(list)\n",
        "  if nueva_matriz.shape[0]!= nueva_matriz.shape[1]:\n",
        "      return print(\"Esta no es una matriz cuadrada\")\n",
        "  factor = nueva_matriz.shape[0]\n",
        "\n",
        "# Revisamos si la matriz es triangular superior\n",
        "  triangular_s = 1\n",
        "  triangular_i = 1\n",
        "  for i in range(factor-1):\n",
        "     if np.sum(nueva_matriz[i][i+1:], axis=0) != 0:\n",
        "      print(\"esta matriz no es es triangular superior\")\n",
        "      triangular_s = 0\n",
        "      break\n",
        "# Revisamos si la matriz es triangular inferior\n",
        "  for i in range(factor-1):\n",
        "    if np.sum(nueva_matriz[factor-i-1][:factor-i-1], axis=0) != 0:\n",
        "      print(\"esta matriz no es triangular inferior\")\n",
        "      triangular_i = 0\n",
        "      break\n",
        " # print(triangular)\n",
        "  if triangular_s == 1 or triangular_i == 1:\n",
        "    determinante = 1\n",
        "    for i in range(factor):\n",
        "      determinante *= nueva_matriz[i][i]\n",
        "    print(\"Determinante\",determinante)\n",
        "\n"
      ],
      "metadata": {
        "id": "Ie1NOwHgjLFF"
      },
      "execution_count": null,
      "outputs": []
    },
    {
      "cell_type": "code",
      "source": [
        "list = [(1,0,0,0),(3,2,0,0),(2,1,3,0),(2,1,3,3)]\n",
        "matriz_triangular(list)\n",
        "determinante_recursivo(list)"
      ],
      "metadata": {
        "colab": {
          "base_uri": "https://localhost:8080/"
        },
        "id": "6tUCbocvxH_q",
        "outputId": "914731bc-c0fa-4923-a46a-d7f9cbaa2909"
      },
      "execution_count": null,
      "outputs": [
        {
          "output_type": "stream",
          "name": "stdout",
          "text": [
            "esta matriz no es triangular inferior\n",
            "Determinante 18\n",
            "determinante : 18\n"
          ]
        }
      ]
    },
    {
      "cell_type": "code",
      "source": [],
      "metadata": {
        "id": "uLFjAwsSxPMA"
      },
      "execution_count": null,
      "outputs": []
    }
  ]
}